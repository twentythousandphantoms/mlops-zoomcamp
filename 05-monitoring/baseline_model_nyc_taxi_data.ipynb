{
 "cells": [
  {
   "cell_type": "code",
   "execution_count": 1,
   "metadata": {},
   "outputs": [],
   "source": [
    "import requests\n",
    "import datetime\n",
    "import pandas as pd\n",
    "\n",
    "from evidently import ColumnMapping\n",
    "from evidently.report import Report\n",
    "from evidently.metrics import ColumnDriftMetric, DatasetDriftMetric, DatasetMissingValuesMetric\n",
    "\n",
    "from joblib import load, dump\n",
    "from tqdm import tqdm\n",
    "\n",
    "from sklearn.linear_model import LinearRegression\n",
    "from sklearn.metrics import mean_absolute_error, mean_absolute_percentage_error"
   ]
  },
  {
   "cell_type": "code",
   "execution_count": 11,
   "metadata": {},
   "outputs": [
    {
     "name": "stdout",
     "output_type": "stream",
     "text": [
      "Download files:\n"
     ]
    },
    {
     "name": "stderr",
     "output_type": "stream",
     "text": [
      "green_tripdata_2023-03.parquet:  15%|█▍        | 258937/1730999 [00:01<00:07, 184682.90it/s, save to ./data/green_tripdata_2023-03.parquet]"
     ]
    },
    {
     "name": "stderr",
     "output_type": "stream",
     "text": [
      "green_tripdata_2023-03.parquet: 100%|██████████| 1730999/1730999 [00:09<00:00, 179051.10it/s, save to ./data/green_tripdata_2023-03.parquet]\n",
      "green_tripdata_2024-03.parquet: 100%|██████████| 1372372/1372372 [00:07<00:00, 178731.30it/s, save to ./data/green_tripdata_2024-03.parquet]\n"
     ]
    }
   ],
   "source": [
    "files = [('green_tripdata_2023-03.parquet', './data'), ('green_tripdata_2024-03.parquet', './data')]\n",
    "\n",
    "print(\"Download files:\")\n",
    "for file, path in files:\n",
    "    url=f\"https://d37ci6vzurychx.cloudfront.net/trip-data/{file}\"\n",
    "    resp=requests.get(url, stream=True)\n",
    "    save_path=f\"{path}/{file}\"\n",
    "    with open(save_path, \"wb\") as handle:\n",
    "        for data in tqdm(resp.iter_content(),\n",
    "                        desc=f\"{file}\",\n",
    "                        postfix=f\"save to {save_path}\",\n",
    "                        total=int(resp.headers[\"Content-Length\"])):\n",
    "            handle.write(data)"
   ]
  },
  {
   "cell_type": "code",
   "execution_count": 3,
   "metadata": {},
   "outputs": [],
   "source": [
    "mar_data = pd.read_parquet('data/green_tripdata_2023-03.parquet')\n"
   ]
  },
  {
   "cell_type": "code",
   "execution_count": 14,
   "metadata": {},
   "outputs": [
    {
     "data": {
      "text/html": [
       "<div>\n",
       "<style scoped>\n",
       "    .dataframe tbody tr th:only-of-type {\n",
       "        vertical-align: middle;\n",
       "    }\n",
       "\n",
       "    .dataframe tbody tr th {\n",
       "        vertical-align: top;\n",
       "    }\n",
       "\n",
       "    .dataframe thead th {\n",
       "        text-align: right;\n",
       "    }\n",
       "</style>\n",
       "<table border=\"1\" class=\"dataframe\">\n",
       "  <thead>\n",
       "    <tr style=\"text-align: right;\">\n",
       "      <th></th>\n",
       "      <th>VendorID</th>\n",
       "      <th>lpep_pickup_datetime</th>\n",
       "      <th>lpep_dropoff_datetime</th>\n",
       "      <th>RatecodeID</th>\n",
       "      <th>PULocationID</th>\n",
       "      <th>DOLocationID</th>\n",
       "      <th>passenger_count</th>\n",
       "      <th>trip_distance</th>\n",
       "      <th>fare_amount</th>\n",
       "      <th>extra</th>\n",
       "      <th>mta_tax</th>\n",
       "      <th>tip_amount</th>\n",
       "      <th>tolls_amount</th>\n",
       "      <th>ehail_fee</th>\n",
       "      <th>improvement_surcharge</th>\n",
       "      <th>total_amount</th>\n",
       "      <th>payment_type</th>\n",
       "      <th>trip_type</th>\n",
       "      <th>congestion_surcharge</th>\n",
       "    </tr>\n",
       "  </thead>\n",
       "  <tbody>\n",
       "    <tr>\n",
       "      <th>count</th>\n",
       "      <td>72044.000000</td>\n",
       "      <td>72044</td>\n",
       "      <td>72044</td>\n",
       "      <td>67507.000000</td>\n",
       "      <td>72044.000000</td>\n",
       "      <td>72044.000000</td>\n",
       "      <td>67507.000000</td>\n",
       "      <td>72044.000000</td>\n",
       "      <td>72044.000000</td>\n",
       "      <td>72044.000000</td>\n",
       "      <td>72044.000000</td>\n",
       "      <td>72044.000000</td>\n",
       "      <td>72044.000000</td>\n",
       "      <td>72044.0</td>\n",
       "      <td>72044.000000</td>\n",
       "      <td>72044.000000</td>\n",
       "      <td>67507.000000</td>\n",
       "      <td>67500.000000</td>\n",
       "      <td>67507.000000</td>\n",
       "    </tr>\n",
       "    <tr>\n",
       "      <th>mean</th>\n",
       "      <td>1.865443</td>\n",
       "      <td>2023-03-16 08:02:42.689842</td>\n",
       "      <td>2023-03-16 08:20:56.525748</td>\n",
       "      <td>1.145703</td>\n",
       "      <td>98.437413</td>\n",
       "      <td>137.613556</td>\n",
       "      <td>1.286844</td>\n",
       "      <td>12.449511</td>\n",
       "      <td>17.018203</td>\n",
       "      <td>0.878109</td>\n",
       "      <td>0.576929</td>\n",
       "      <td>2.157651</td>\n",
       "      <td>0.183268</td>\n",
       "      <td>0.0</td>\n",
       "      <td>0.961604</td>\n",
       "      <td>22.292310</td>\n",
       "      <td>1.373680</td>\n",
       "      <td>1.028681</td>\n",
       "      <td>0.714837</td>\n",
       "    </tr>\n",
       "    <tr>\n",
       "      <th>min</th>\n",
       "      <td>1.000000</td>\n",
       "      <td>2023-02-23 16:46:29</td>\n",
       "      <td>2023-02-23 16:55:25</td>\n",
       "      <td>1.000000</td>\n",
       "      <td>1.000000</td>\n",
       "      <td>1.000000</td>\n",
       "      <td>0.000000</td>\n",
       "      <td>0.000000</td>\n",
       "      <td>-115.000000</td>\n",
       "      <td>-5.000000</td>\n",
       "      <td>-0.500000</td>\n",
       "      <td>-1.100000</td>\n",
       "      <td>0.000000</td>\n",
       "      <td>0.0</td>\n",
       "      <td>-1.000000</td>\n",
       "      <td>-116.000000</td>\n",
       "      <td>1.000000</td>\n",
       "      <td>1.000000</td>\n",
       "      <td>-2.750000</td>\n",
       "    </tr>\n",
       "    <tr>\n",
       "      <th>25%</th>\n",
       "      <td>2.000000</td>\n",
       "      <td>2023-03-08 13:55:49.500000</td>\n",
       "      <td>2023-03-08 14:15:59.750000</td>\n",
       "      <td>1.000000</td>\n",
       "      <td>74.000000</td>\n",
       "      <td>74.000000</td>\n",
       "      <td>1.000000</td>\n",
       "      <td>1.100000</td>\n",
       "      <td>9.300000</td>\n",
       "      <td>0.000000</td>\n",
       "      <td>0.500000</td>\n",
       "      <td>0.000000</td>\n",
       "      <td>0.000000</td>\n",
       "      <td>0.0</td>\n",
       "      <td>1.000000</td>\n",
       "      <td>12.980000</td>\n",
       "      <td>1.000000</td>\n",
       "      <td>1.000000</td>\n",
       "      <td>0.000000</td>\n",
       "    </tr>\n",
       "    <tr>\n",
       "      <th>50%</th>\n",
       "      <td>2.000000</td>\n",
       "      <td>2023-03-16 08:05:27.500000</td>\n",
       "      <td>2023-03-16 08:22:27</td>\n",
       "      <td>1.000000</td>\n",
       "      <td>75.000000</td>\n",
       "      <td>138.000000</td>\n",
       "      <td>1.000000</td>\n",
       "      <td>1.840000</td>\n",
       "      <td>13.500000</td>\n",
       "      <td>0.000000</td>\n",
       "      <td>0.500000</td>\n",
       "      <td>1.600000</td>\n",
       "      <td>0.000000</td>\n",
       "      <td>0.0</td>\n",
       "      <td>1.000000</td>\n",
       "      <td>18.100000</td>\n",
       "      <td>1.000000</td>\n",
       "      <td>1.000000</td>\n",
       "      <td>0.000000</td>\n",
       "    </tr>\n",
       "    <tr>\n",
       "      <th>75%</th>\n",
       "      <td>2.000000</td>\n",
       "      <td>2023-03-23 21:51:25.500000</td>\n",
       "      <td>2023-03-23 22:12:31.500000</td>\n",
       "      <td>1.000000</td>\n",
       "      <td>129.000000</td>\n",
       "      <td>216.000000</td>\n",
       "      <td>1.000000</td>\n",
       "      <td>3.300000</td>\n",
       "      <td>20.000000</td>\n",
       "      <td>1.000000</td>\n",
       "      <td>0.500000</td>\n",
       "      <td>3.360000</td>\n",
       "      <td>0.000000</td>\n",
       "      <td>0.0</td>\n",
       "      <td>1.000000</td>\n",
       "      <td>26.730000</td>\n",
       "      <td>2.000000</td>\n",
       "      <td>1.000000</td>\n",
       "      <td>2.750000</td>\n",
       "    </tr>\n",
       "    <tr>\n",
       "      <th>max</th>\n",
       "      <td>2.000000</td>\n",
       "      <td>2023-04-01 00:09:27</td>\n",
       "      <td>2023-04-01 17:32:21</td>\n",
       "      <td>99.000000</td>\n",
       "      <td>265.000000</td>\n",
       "      <td>265.000000</td>\n",
       "      <td>9.000000</td>\n",
       "      <td>92064.680000</td>\n",
       "      <td>477.000000</td>\n",
       "      <td>12.500000</td>\n",
       "      <td>4.250000</td>\n",
       "      <td>270.270000</td>\n",
       "      <td>36.050000</td>\n",
       "      <td>0.0</td>\n",
       "      <td>1.000000</td>\n",
       "      <td>478.000000</td>\n",
       "      <td>5.000000</td>\n",
       "      <td>2.000000</td>\n",
       "      <td>2.750000</td>\n",
       "    </tr>\n",
       "    <tr>\n",
       "      <th>std</th>\n",
       "      <td>0.341252</td>\n",
       "      <td>NaN</td>\n",
       "      <td>NaN</td>\n",
       "      <td>1.225735</td>\n",
       "      <td>60.481870</td>\n",
       "      <td>76.169705</td>\n",
       "      <td>0.923652</td>\n",
       "      <td>641.094653</td>\n",
       "      <td>13.832399</td>\n",
       "      <td>1.297642</td>\n",
       "      <td>0.384129</td>\n",
       "      <td>3.136215</td>\n",
       "      <td>1.139159</td>\n",
       "      <td>0.0</td>\n",
       "      <td>0.185185</td>\n",
       "      <td>15.852047</td>\n",
       "      <td>0.512307</td>\n",
       "      <td>0.166911</td>\n",
       "      <td>1.206435</td>\n",
       "    </tr>\n",
       "  </tbody>\n",
       "</table>\n",
       "</div>"
      ],
      "text/plain": [
       "           VendorID        lpep_pickup_datetime       lpep_dropoff_datetime  \\\n",
       "count  72044.000000                       72044                       72044   \n",
       "mean       1.865443  2023-03-16 08:02:42.689842  2023-03-16 08:20:56.525748   \n",
       "min        1.000000         2023-02-23 16:46:29         2023-02-23 16:55:25   \n",
       "25%        2.000000  2023-03-08 13:55:49.500000  2023-03-08 14:15:59.750000   \n",
       "50%        2.000000  2023-03-16 08:05:27.500000         2023-03-16 08:22:27   \n",
       "75%        2.000000  2023-03-23 21:51:25.500000  2023-03-23 22:12:31.500000   \n",
       "max        2.000000         2023-04-01 00:09:27         2023-04-01 17:32:21   \n",
       "std        0.341252                         NaN                         NaN   \n",
       "\n",
       "         RatecodeID  PULocationID  DOLocationID  passenger_count  \\\n",
       "count  67507.000000  72044.000000  72044.000000     67507.000000   \n",
       "mean       1.145703     98.437413    137.613556         1.286844   \n",
       "min        1.000000      1.000000      1.000000         0.000000   \n",
       "25%        1.000000     74.000000     74.000000         1.000000   \n",
       "50%        1.000000     75.000000    138.000000         1.000000   \n",
       "75%        1.000000    129.000000    216.000000         1.000000   \n",
       "max       99.000000    265.000000    265.000000         9.000000   \n",
       "std        1.225735     60.481870     76.169705         0.923652   \n",
       "\n",
       "       trip_distance   fare_amount         extra       mta_tax    tip_amount  \\\n",
       "count   72044.000000  72044.000000  72044.000000  72044.000000  72044.000000   \n",
       "mean       12.449511     17.018203      0.878109      0.576929      2.157651   \n",
       "min         0.000000   -115.000000     -5.000000     -0.500000     -1.100000   \n",
       "25%         1.100000      9.300000      0.000000      0.500000      0.000000   \n",
       "50%         1.840000     13.500000      0.000000      0.500000      1.600000   \n",
       "75%         3.300000     20.000000      1.000000      0.500000      3.360000   \n",
       "max     92064.680000    477.000000     12.500000      4.250000    270.270000   \n",
       "std       641.094653     13.832399      1.297642      0.384129      3.136215   \n",
       "\n",
       "       tolls_amount  ehail_fee  improvement_surcharge  total_amount  \\\n",
       "count  72044.000000    72044.0           72044.000000  72044.000000   \n",
       "mean       0.183268        0.0               0.961604     22.292310   \n",
       "min        0.000000        0.0              -1.000000   -116.000000   \n",
       "25%        0.000000        0.0               1.000000     12.980000   \n",
       "50%        0.000000        0.0               1.000000     18.100000   \n",
       "75%        0.000000        0.0               1.000000     26.730000   \n",
       "max       36.050000        0.0               1.000000    478.000000   \n",
       "std        1.139159        0.0               0.185185     15.852047   \n",
       "\n",
       "       payment_type     trip_type  congestion_surcharge  \n",
       "count  67507.000000  67500.000000          67507.000000  \n",
       "mean       1.373680      1.028681              0.714837  \n",
       "min        1.000000      1.000000             -2.750000  \n",
       "25%        1.000000      1.000000              0.000000  \n",
       "50%        1.000000      1.000000              0.000000  \n",
       "75%        2.000000      1.000000              2.750000  \n",
       "max        5.000000      2.000000              2.750000  \n",
       "std        0.512307      0.166911              1.206435  "
      ]
     },
     "execution_count": 14,
     "metadata": {},
     "output_type": "execute_result"
    }
   ],
   "source": [
    "mar_data.describe()"
   ]
  },
  {
   "cell_type": "code",
   "execution_count": 4,
   "metadata": {},
   "outputs": [
    {
     "data": {
      "text/plain": [
       "(72044, 20)"
      ]
     },
     "execution_count": 4,
     "metadata": {},
     "output_type": "execute_result"
    }
   ],
   "source": [
    "mar_data.shape"
   ]
  },
  {
   "cell_type": "code",
   "execution_count": 5,
   "metadata": {},
   "outputs": [],
   "source": [
    "# # create target\n",
    "# mar_data[\"duration_min\"] = mar_data.lpep_dropoff_datetime - mar_data.lpep_pickup_datetime\n",
    "# mar_data.duration_min = mar_data.duration_min.apply(lambda td : float(td.total_seconds())/60)\n",
    "# # filter out outliers\n",
    "# mar_data = mar_data[(mar_data.duration_min >= 0) & (mar_data.duration_min <= 60)]\n",
    "# mar_data = mar_data[(mar_data.passenger_count > 0) & (mar_data.passenger_count <= 8)]\n",
    "# # data labeling\n",
    "# target = \"fare_amount\"\n",
    "# num_features = [\"passenger_count\", \"trip_distance\", \"total_amount\"]\n",
    "# cat_features = [\"PULocationID\", \"DOLocationID\"]\n",
    "# # mar_data.shape\n",
    "# train_data = mar_data[:30000]\n",
    "# val_data = mar_data[30000:]\n",
    "# model = LinearRegression()\n",
    "# model.fit(train_data[num_features + cat_features], train_data[target])\n",
    "# train_preds = model.predict(train_data[num_features + cat_features])\n",
    "# train_data['fare_amount'] = train_preds\n",
    "# # val_preds = model.predict(val_data[num_features + cat_features])\n",
    "# # val_data['fare_amount'] = val_preds\n",
    "# print(mean_absolute_error(train_data.fare_amount, train_data.prediction))\n",
    "# print(mean_absolute_error(val_data.fare_amount, val_data.prediction))\n",
    "\n",
    "# # Dump model and reference data\n",
    "# with open('models/lin_reg.bin', 'wb') as f_out:\n",
    "#     dump(model, f_out)\n",
    "# val_data.to_parquet('data/reference.parquet')\n"
   ]
  },
  {
   "cell_type": "code",
   "execution_count": 6,
   "metadata": {},
   "outputs": [],
   "source": [
    "from evidently.metrics import ColumnQuantileMetric\n"
   ]
  },
  {
   "cell_type": "code",
   "execution_count": 7,
   "metadata": {},
   "outputs": [],
   "source": [
    "# Define column mapping \n",
    "num_features = [\"passenger_count\", \"trip_distance\", \"total_amount\"]\n",
    "cat_features = [\"PULocationID\", \"DOLocationID\"]\n",
    "column_mapping = ColumnMapping(\n",
    "    target=None,\n",
    "    prediction='fare_amount',\n",
    "    numerical_features=num_features,\n",
    "    categorical_features=cat_features\n",
    ")"
   ]
  },
  {
   "cell_type": "code",
   "execution_count": 8,
   "metadata": {},
   "outputs": [],
   "source": [
    "# Define the report with the chosen metrics\n",
    "mar_data['ehail_fee'] = mar_data['ehail_fee'].fillna(0)\n",
    "report = Report(metrics=[\n",
    "    ColumnDriftMetric(column_name=\"fare_amount\"),\n",
    "    DatasetDriftMetric(),\n",
    "    DatasetMissingValuesMetric(),\n",
    "    ColumnQuantileMetric(column_name=\"fare_amount\", quantile=0.5)  # New metric\n",
    "])\n"
   ]
  },
  {
   "cell_type": "code",
   "execution_count": null,
   "metadata": {},
   "outputs": [],
   "source": [
    "# Generate the report\n",
    "report.run(reference_data=mar_data, current_data=mar_data)\n",
    "# report.show(mode='inline')"
   ]
  },
  {
   "cell_type": "markdown",
   "metadata": {},
   "source": [
    "Q3. Monitoring\n",
    "Let’s start monitoring. Run expanded monitoring for a new batch of data (March 2024).\n",
    "\n",
    "What is the maximum value of metric quantile = 0.5 on the \"fare_amount\" column during March 2024 (calculated daily)?"
   ]
  },
  {
   "cell_type": "code",
   "execution_count": 43,
   "metadata": {},
   "outputs": [
    {
     "data": {
      "text/plain": [
       "(57457, 21)"
      ]
     },
     "execution_count": 43,
     "metadata": {},
     "output_type": "execute_result"
    }
   ],
   "source": [
    "# Load the data\n",
    "data_march_2024 = pd.read_parquet('data/green_tripdata_2024-03.parquet')\n",
    "\n",
    "# Preprocess Data\n",
    "# Add a 'date' column for daily grouping\n",
    "data_march_2024['date'] = data_march_2024['lpep_pickup_datetime'].dt.date\n",
    "\n",
    "data_march_2024.shape\n"
   ]
  },
  {
   "cell_type": "code",
   "execution_count": 45,
   "metadata": {},
   "outputs": [
    {
     "data": {
      "text/plain": [
       "(57457, 21)"
      ]
     },
     "execution_count": 45,
     "metadata": {},
     "output_type": "execute_result"
    }
   ],
   "source": [
    "# Filter for March 2024\n",
    "start_date = datetime.date(2024, 3, 1)\n",
    "end_date = datetime.date(2024, 3, 31)\n",
    "\n",
    "march_2024_data = data_march_2024[\n",
    "    (data_march_2024['date'] >= start_date) & (data_march_2024['date'] <= end_date)\n",
    "]\n",
    "\n",
    "data_march_2024.shape"
   ]
  },
  {
   "cell_type": "code",
   "execution_count": 37,
   "metadata": {},
   "outputs": [],
   "source": [
    "# Define column mapping\n",
    "column_mapping = ColumnMapping(\n",
    "    target=None,\n",
    "    prediction=None,\n",
    "    numerical_features=['fare_amount']\n",
    ")\n",
    "\n",
    "# Create the report with the quantile metric\n",
    "report = Report(metrics=[\n",
    "    ColumnQuantileMetric(column_name=\"fare_amount\", quantile=0.5)\n",
    "])\n",
    "\n"
   ]
  },
  {
   "cell_type": "code",
   "execution_count": 48,
   "metadata": {},
   "outputs": [
    {
     "name": "stdout",
     "output_type": "stream",
     "text": [
      "Maximum quantile value: 14.2\n"
     ]
    }
   ],
   "source": [
    "# Generate the report for each day's data\n",
    "daily_results = []\n",
    "start_date = datetime.date(2024, 3, 1)\n",
    "end_date = datetime.date(2024, 3, 31)\n",
    "\n",
    "for date, group in data_march_2024.groupby(\"date\"):\n",
    "    report.run(reference_data=group, current_data=group)\n",
    "    result = report.as_dict()\n",
    "\n",
    "    if (date >= start_date) and (date <= end_date):\n",
    "        # Extract the quantile value\n",
    "        quantile_value = result['metrics'][0]['result']['current']['value']\n",
    "        daily_results.append((date, quantile_value))\n",
    "\n",
    "# Convert results to a DataFrame for analysis\n",
    "daily_df = pd.DataFrame(daily_results, columns=[\"date\", \"quantile_0.5\"])\n",
    "\n",
    "# report.show(mode='inline')\n",
    "\n",
    "max_quantile = daily_df[\"quantile_0.5\"].max()\n",
    "print(f\"Maximum quantile value: {max_quantile}\")\n"
   ]
  }
 ],
 "metadata": {
  "kernelspec": {
   "display_name": "Python 3",
   "language": "python",
   "name": "python3"
  },
  "language_info": {
   "codemirror_mode": {
    "name": "ipython",
    "version": 3
   },
   "file_extension": ".py",
   "mimetype": "text/x-python",
   "name": "python",
   "nbconvert_exporter": "python",
   "pygments_lexer": "ipython3",
   "version": "3.9.20"
  }
 },
 "nbformat": 4,
 "nbformat_minor": 2
}
